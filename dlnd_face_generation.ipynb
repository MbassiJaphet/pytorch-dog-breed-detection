{
  "nbformat": 4,
  "nbformat_minor": 0,
  "metadata": {
    "kernelspec": {
      "name": "python3",
      "display_name": "Python 3"
    },
    "language_info": {
      "codemirror_mode": {
        "name": "ipython",
        "version": 3
      },
      "file_extension": ".py",
      "mimetype": "text/x-python",
      "name": "python",
      "nbconvert_exporter": "python",
      "pygments_lexer": "ipython3",
      "version": "3.6.3"
    },
    "colab": {
      "name": "dlnd_face_generation.ipynb",
      "provenance": [],
      "collapsed_sections": [],
      "toc_visible": true,
      "include_colab_link": true
    },
    "accelerator": "GPU"
  },
  "cells": [
    {
      "cell_type": "markdown",
      "metadata": {
        "id": "view-in-github",
        "colab_type": "text"
      },
      "source": [
        "<a href=\"https://colab.research.google.com/github/MbassiJaphet/pytorch-dog-breed-detection/blob/master/dlnd_face_generation.ipynb\" target=\"_parent\"><img src=\"https://colab.research.google.com/assets/colab-badge.svg\" alt=\"Open In Colab\"/></a>"
      ]
    },
    {
      "cell_type": "markdown",
      "metadata": {
        "id": "SohYetfnf2tC",
        "colab_type": "text"
      },
      "source": [
        "# Face Generation\n",
        "\n",
        "In this project, you'll define and train a DCGAN on a dataset of faces. Your goal is to get a generator network to generate *new* images of faces that look as realistic as possible!\n",
        "\n",
        "The project will be broken down into a series of tasks from **loading in data to defining and training adversarial networks**. At the end of the notebook, you'll be able to visualize the results of your trained Generator to see how it performs; your generated samples should look like fairly realistic faces with small amounts of noise.\n",
        "\n",
        "### Get the Data\n",
        "\n",
        "You'll be using the [CelebFaces Attributes Dataset (CelebA)](http://mmlab.ie.cuhk.edu.hk/projects/CelebA.html) to train your adversarial networks.\n",
        "\n",
        "This dataset is more complex than the number datasets (like MNIST or SVHN) you've been working with, and so, you should prepare to define deeper networks and train them for a longer time to get good results. It is suggested that you utilize a GPU for training.\n",
        "\n",
        "### Pre-processed Data\n",
        "\n",
        "Since the project's main focus is on building the GANs, we've done *some* of the pre-processing for you. Each of the CelebA images has been cropped to remove parts of the image that don't include a face, then resized down to 64x64x3 NumPy images. Some sample data is show below.\n",
        "\n",
        "<img src='assets/processed_face_data.png' width=60% />\n",
        "\n",
        "> If you are working locally, you can download this data [by clicking here](https://s3.amazonaws.com/video.udacity-data.com/topher/2018/November/5be7eb6f_processed-celeba-small/processed-celeba-small.zip)\n",
        "\n",
        "This is a zip file that you'll need to extract in the home directory of this notebook for further loading and processing. After extracting the data, you should be left with a directory of data `processed_celeba_small/`"
      ]
    },
    {
      "cell_type": "code",
      "metadata": {
        "id": "2AvYQcSCf9-a",
        "colab_type": "code",
        "colab": {}
      },
      "source": [
        "!wget https://s3.amazonaws.com/video.udacity-data.com/topher/2018/November/5be7eb6f_processed-celeba-small/processed-celeba-small.zip"
      ],
      "execution_count": 0,
      "outputs": []
    },
    {
      "cell_type": "code",
      "metadata": {
        "id": "BzsTjwaif2tG",
        "colab_type": "code",
        "colab": {}
      },
      "source": [
        "# can comment out after executing\n",
        "!unzip processed-celeba-small.zip"
      ],
      "execution_count": 0,
      "outputs": []
    },
    {
      "cell_type": "code",
      "metadata": {
        "id": "QqHgYRq_f2tL",
        "colab_type": "code",
        "colab": {}
      },
      "source": [
        "data_dir = 'processed_celeba_small/'\n",
        "\n",
        "\"\"\"\n",
        "DON'T MODIFY ANYTHING IN THIS CELL\n",
        "\"\"\"\n",
        "import pickle as pkl\n",
        "import matplotlib.pyplot as plt\n",
        "import numpy as np\n",
        "import problem_unittests as tests\n",
        "#import helper\n",
        "\n",
        "%matplotlib inline"
      ],
      "execution_count": 0,
      "outputs": []
    },
    {
      "cell_type": "markdown",
      "metadata": {
        "id": "OGEDzTZNf2tO",
        "colab_type": "text"
      },
      "source": [
        "## Visualize the CelebA Data\n",
        "\n",
        "The [CelebA](http://mmlab.ie.cuhk.edu.hk/projects/CelebA.html) dataset contains over 200,000 celebrity images with annotations. Since you're going to be generating faces, you won't need the annotations, you'll only need the images. Note that these are color images with [3 color channels (RGB)](https://en.wikipedia.org/wiki/Channel_(digital_image)#RGB_Images) each.\n",
        "\n",
        "### Pre-process and Load the Data\n",
        "\n",
        "Since the project's main focus is on building the GANs, we've done *some* of the pre-processing for you. Each of the CelebA images has been cropped to remove parts of the image that don't include a face, then resized down to 64x64x3 NumPy images. This *pre-processed* dataset is a smaller subset of the very large CelebA data.\n",
        "\n",
        "> There are a few other steps that you'll need to **transform** this data and create a **DataLoader**.\n",
        "\n",
        "#### Exercise: Complete the following `get_dataloader` function, such that it satisfies these requirements:\n",
        "\n",
        "* Your images should be square, Tensor images of size `image_size x image_size` in the x and y dimension.\n",
        "* Your function should return a DataLoader that shuffles and batches these Tensor images.\n",
        "\n",
        "#### ImageFolder\n",
        "\n",
        "To create a dataset given a directory of images, it's recommended that you use PyTorch's [ImageFolder](https://pytorch.org/docs/stable/torchvision/datasets.html#imagefolder) wrapper, with a root directory `processed_celeba_small/` and data transformation passed in."
      ]
    },
    {
      "cell_type": "code",
      "metadata": {
        "id": "Hwc9ZXgOf2tQ",
        "colab_type": "code",
        "colab": {}
      },
      "source": [
        "# necessary imports\n",
        "import torch\n",
        "from torchvision import datasets\n",
        "from torchvision import transforms"
      ],
      "execution_count": 0,
      "outputs": []
    },
    {
      "cell_type": "code",
      "metadata": {
        "id": "FhzsRqnpf2tT",
        "colab_type": "code",
        "colab": {}
      },
      "source": [
        "def get_dataloader(batch_size, image_size, data_dir='processed_celeba_small/'):\n",
        "    \"\"\"\n",
        "    Batch the neural network data using DataLoader\n",
        "    :param batch_size: The size of each batch; the number of images in a batch\n",
        "    :param img_size: The square size of the image data (x, y)\n",
        "    :param data_dir: Directory where image data is located\n",
        "    :return: DataLoader with batched data\n",
        "    \"\"\"\n",
        "    \n",
        "    # TODO: Implement function and return a dataloader\n",
        "    transform = transforms.Compose([\n",
        "        transforms.Resize(image_size),\n",
        "        transforms.CenterCrop(image_size),\n",
        "        transforms.ToTensor(),\n",
        "    ])\n",
        "    dataset = datasets.ImageFolder(data_dir, transform=transform)\n",
        "    \n",
        "    data_loader = torch.utils.data.DataLoader(dataset=dataset,\n",
        "                                             batch_size=batch_size,\n",
        "                                             shuffle=True)\n",
        "    \n",
        "    return data_loader\n"
      ],
      "execution_count": 0,
      "outputs": []
    },
    {
      "cell_type": "markdown",
      "metadata": {
        "id": "YCbxUrRxf2tW",
        "colab_type": "text"
      },
      "source": [
        "## Create a DataLoader\n",
        "\n",
        "#### Exercise: Create a DataLoader `celeba_train_loader` with appropriate hyperparameters.\n",
        "\n",
        "Call the above function and create a dataloader to view images. \n",
        "* You can decide on any reasonable `batch_size` parameter\n",
        "* Your `image_size` **must be** `32`. Resizing the data to a smaller size will make for faster training, while still creating convincing images of faces!"
      ]
    },
    {
      "cell_type": "code",
      "metadata": {
        "id": "I1aTnuYtf2tX",
        "colab_type": "code",
        "colab": {}
      },
      "source": [
        "# Define function hyperparameters\n",
        "batch_size = 256\n",
        "img_size = 32\n",
        "\n",
        "\"\"\"\n",
        "DON'T MODIFY ANYTHING IN THIS CELL THAT IS BELOW THIS LINE\n",
        "\"\"\"\n",
        "# Call your function and get a dataloader\n",
        "celeba_train_loader = get_dataloader(batch_size, img_size)\n"
      ],
      "execution_count": 0,
      "outputs": []
    },
    {
      "cell_type": "markdown",
      "metadata": {
        "id": "tSEznbjZf2ta",
        "colab_type": "text"
      },
      "source": [
        "Next, you can view some images! You should seen square images of somewhat-centered faces.\n",
        "\n",
        "Note: You'll need to convert the Tensor images into a NumPy type and transpose the dimensions to correctly display an image, suggested `imshow` code is below, but it may not be perfect."
      ]
    },
    {
      "cell_type": "code",
      "metadata": {
        "id": "9khB_1nvf2tb",
        "colab_type": "code",
        "outputId": "3cd4c349-8232-46c0-ddce-0ab838e2b658",
        "colab": {
          "base_uri": "https://localhost:8080/",
          "height": 248
        }
      },
      "source": [
        "# helper display function\n",
        "def imshow(img):\n",
        "    npimg = img.numpy()\n",
        "    plt.imshow(np.transpose(npimg, (1, 2, 0)))\n",
        "\n",
        "\"\"\"\n",
        "DON'T MODIFY ANYTHING IN THIS CELL THAT IS BELOW THIS LINE\n",
        "\"\"\"\n",
        "# obtain one batch of training images\n",
        "dataiter = iter(celeba_train_loader)\n",
        "images, _ = dataiter.next() # _ for no labels\n",
        "\n",
        "# plot the images in the batch, along with the corresponding labels\n",
        "fig = plt.figure(figsize=(20, 4))\n",
        "plot_size=20\n",
        "for idx in np.arange(plot_size):\n",
        "    ax = fig.add_subplot(2, plot_size/2, idx+1, xticks=[], yticks=[])\n",
        "    imshow(images[idx])"
      ],
      "execution_count": 149,
      "outputs": [
        {
          "output_type": "display_data",
          "data": {
            "image/png": "[encoded data removed]",
            "text/plain": [
              "<Figure size 1440x288 with 20 Axes>"
            ]
          },
          "metadata": {
            "tags": []
          }
        }
      ]
    },
    {
      "cell_type": "markdown",
      "metadata": {
        "id": "g6CmcLIaf2td",
        "colab_type": "text"
      },
      "source": [
        "#### Exercise: Pre-process your image data and scale it to a pixel range of -1 to 1\n",
        "\n",
        "You need to do a bit of pre-processing; you know that the output of a `tanh` activated generator will contain pixel values in a range from -1 to 1, and so, we need to rescale our training images to a range of -1 to 1. (Right now, they are in a range from 0-1.)"
      ]
    },
    {
      "cell_type": "code",
      "metadata": {
        "id": "T8B4CL4Ff2te",
        "colab_type": "code",
        "colab": {}
      },
      "source": [
        "# TODO: Complete the scale function\n",
        "def scale(x, feature_range=(-1, 1)):\n",
        "    ''' Scale takes in an image x and returns that image, scaled\n",
        "       with a feature_range of pixel values from -1 to 1. \n",
        "       This function assumes that the input x is already scaled from 0-1.'''\n",
        "    # assume x is scaled to (0, 1)\n",
        "    # scale to feature_range and return scaled x\n",
        "    min, max = feature_range\n",
        "    x = x * (max - min) + min\n",
        "    \n",
        "    return x\n"
      ],
      "execution_count": 0,
      "outputs": []
    },
    {
      "cell_type": "code",
      "metadata": {
        "id": "2vroYpyrf2tf",
        "colab_type": "code",
        "outputId": "5ee9d56a-0cb8-491d-ba4f-108f1e56962f",
        "colab": {
          "base_uri": "https://localhost:8080/",
          "height": 51
        }
      },
      "source": [
        "\"\"\"\n",
        "DON'T MODIFY ANYTHING IN THIS CELL THAT IS BELOW THIS LINE\n",
        "\"\"\"\n",
        "# check scaled range\n",
        "# should be close to -1 to 1\n",
        "img = images[0]\n",
        "scaled_img = scale(img)\n",
        "\n",
        "print('Min: ', scaled_img.min())\n",
        "print('Max: ', scaled_img.max())"
      ],
      "execution_count": 151,
      "outputs": [
        {
          "output_type": "stream",
          "text": [
            "Min:  tensor(-0.9843)\n",
            "Max:  tensor(1.)\n"
          ],
          "name": "stdout"
        }
      ]
    },
    {
      "cell_type": "markdown",
      "metadata": {
        "id": "BQNdHVNFf2th",
        "colab_type": "text"
      },
      "source": [
        "---\n",
        "# Define the Model\n",
        "\n",
        "A GAN is comprised of two adversarial networks, a discriminator and a generator.\n",
        "\n",
        "## Discriminator\n",
        "\n",
        "Your first task will be to define the discriminator. This is a convolutional classifier like you've built before, only without any maxpooling layers. To deal with this complex data, it's suggested you use a deep network with **normalization**. You are also allowed to create any helper functions that may be useful.\n",
        "\n",
        "#### Exercise: Complete the Discriminator class\n",
        "* The inputs to the discriminator are 32x32x3 tensor images\n",
        "* The output should be a single value that will indicate whether a given image is real or fake\n"
      ]
    },
    {
      "cell_type": "code",
      "metadata": {
        "id": "UlwP_B2lf2th",
        "colab_type": "code",
        "colab": {}
      },
      "source": [
        "import torch.nn as nn\n",
        "import torch.nn.functional as F"
      ],
      "execution_count": 0,
      "outputs": []
    },
    {
      "cell_type": "markdown",
      "metadata": {
        "id": "dw6ZqwL0ogTd",
        "colab_type": "text"
      },
      "source": [
        "Defining fuction for returning convolutional layers with batch ormalisation"
      ]
    },
    {
      "cell_type": "code",
      "metadata": {
        "colab_type": "code",
        "id": "3kWxUP8g0fFi",
        "colab": {}
      },
      "source": [
        "def BatchNormConv2D(in_channels, out_channels, kernel, stride=2, padding=1, use_batch_norm=True):\n",
        "    \n",
        "    layers=[]\n",
        "    conv = nn.Conv2d(in_channels, out_channels, kernel, stride, padding, bias=False)\n",
        "    layers.append(conv)\n",
        "    \n",
        "    if use_batch_norm: layers.append(nn.BatchNorm2d(out_channels))\n",
        "    \n",
        "    return nn.Sequential(*layers)"
      ],
      "execution_count": 0,
      "outputs": []
    },
    {
      "cell_type": "code",
      "metadata": {
        "id": "wWo2Ap3-f2tj",
        "colab_type": "code",
        "outputId": "80aa9003-c4cb-4690-d09a-19c3bf21f252",
        "colab": {
          "base_uri": "https://localhost:8080/",
          "height": 34
        }
      },
      "source": [
        "class Discriminator(nn.Module):\n",
        "\n",
        "    def __init__(self, conv_dim):\n",
        "        \"\"\"\n",
        "        Initialize the Discriminator Module\n",
        "        :param conv_dim: The depth of the first convolutional layer\n",
        "        \"\"\"\n",
        "        super(Discriminator, self).__init__()\n",
        "\n",
        "        # complete init function\n",
        "        self.conv_dim = conv_dim\n",
        "\n",
        "        self.conv1 = BatchNormConv2D(3, conv_dim, (4, 4), use_batch_norm=False) # 16x16\n",
        "        self.conv2 = BatchNormConv2D(conv_dim*1, conv_dim*2, (4, 4)) # 8x8\n",
        "        self.conv3 = BatchNormConv2D(conv_dim*2, conv_dim*4, (4, 4)) # 4x4\n",
        "        #self.conv4 = BatchNormConv2D(conv_dim*4, conv_dim*8, (4, 4)) # 2x2\n",
        "        \n",
        "        self.fc = nn.Linear(conv_dim*4*4*4, 1)\n",
        "        #self.fc = nn.Linear(conv_dim*8*2*2, 1)\n",
        "\n",
        "        \n",
        "\n",
        "    def forward(self, x):\n",
        "        \"\"\"\n",
        "        Forward propagation of the neural network\n",
        "        :param x: The input to the neural network     \n",
        "        :return: Discriminator logits; the output of the neural network\n",
        "        \"\"\"\n",
        "        # define feedforward behavior\n",
        "        x = F.leaky_relu(self.conv1(x), 0.2)\n",
        "        x = F.leaky_relu(self.conv2(x), 0.2)\n",
        "        x = F.leaky_relu(self.conv3(x), 0.2)\n",
        "        #x = F.leaky_relu(self.conv4(x), 0.2)\n",
        "        \n",
        "        # flatten\n",
        "        x = x.view(-1, self.conv_dim*4*4*4)\n",
        "        #x = x.view(-1, self.conv_dim*8*2*2)\n",
        "\n",
        "        \n",
        "        # final output layer\n",
        "        x = self.fc(x)\n",
        "        return x\n",
        "\n",
        "\n",
        "\"\"\"\n",
        "DON'T MODIFY ANYTHING IN THIS CELL THAT IS BELOW THIS LINE\n",
        "\"\"\"\n",
        "tests.test_discriminator(Discriminator)"
      ],
      "execution_count": 154,
      "outputs": [
        {
          "output_type": "stream",
          "text": [
            "Tests Passed\n"
          ],
          "name": "stdout"
        }
      ]
    },
    {
      "cell_type": "markdown",
      "metadata": {
        "id": "0AYQqfuHf2tk",
        "colab_type": "text"
      },
      "source": [
        "## Generator\n",
        "\n",
        "The generator should upsample an input and generate a *new* image of the same size as our training data `32x32x3`. This should be mostly transpose convolutional layers with normalization applied to the outputs.\n",
        "\n",
        "#### Exercise: Complete the Generator class\n",
        "* The inputs to the generator are vectors of some length `z_size`\n",
        "* The output should be a image of shape `32x32x3`"
      ]
    },
    {
      "cell_type": "code",
      "metadata": {
        "id": "mOJOvXHt2KI-",
        "colab_type": "code",
        "colab": {}
      },
      "source": [
        "def BatchNormTransposeConv2D(in_channels, out_channels, kernel, stride=2, padding=1, batch_norm=True):\n",
        "    \n",
        "    layers=[]\n",
        "    transpose_conv = nn.ConvTranspose2d(in_channels, out_channels, kernel, stride, padding, bias=False)\n",
        "    layers.append(transpose_conv)\n",
        "    \n",
        "    if batch_norm: layers.append(nn.BatchNorm2d(out_channels))\n",
        "    \n",
        "    return nn.Sequential(*layers)"
      ],
      "execution_count": 0,
      "outputs": []
    },
    {
      "cell_type": "code",
      "metadata": {
        "id": "d7gQfAA0f2tl",
        "colab_type": "code",
        "outputId": "05d59074-8967-491c-dee0-577df3fb9824",
        "colab": {
          "base_uri": "https://localhost:8080/",
          "height": 34
        }
      },
      "source": [
        "class Generator(nn.Module):\n",
        "    \n",
        "    def __init__(self, z_size, conv_dim):\n",
        "        \"\"\"\n",
        "        Initialize the Generator Module\n",
        "        :param z_size: The length of the input latent vector, z\n",
        "        :param conv_dim: The depth of the inputs to the *last* transpose convolutional layer\n",
        "        \"\"\"\n",
        "        super(Generator, self).__init__()\n",
        "\n",
        "        # complete init function\n",
        "        self.conv_dim = conv_dim\n",
        "\n",
        "        self.fc = nn.Linear(z_size, conv_dim*4*4*4)\n",
        "\n",
        "        # transpose conv layers\n",
        "        self.transpose_conv1 = BatchNormTransposeConv2D(conv_dim*4, conv_dim*2, (4, 4))\n",
        "        self.transpose_conv2 = BatchNormTransposeConv2D(conv_dim*2, conv_dim*1, (4, 4))\n",
        "        self.transpose_conv3 = BatchNormTransposeConv2D(conv_dim*1, 3, (4, 4), batch_norm=False)\n",
        "        \n",
        "        \n",
        "\n",
        "    def forward(self, x):\n",
        "        \"\"\"\n",
        "        Forward propagation of the neural network\n",
        "        :param x: The input to the neural network     \n",
        "        :return: A 32x32x3 Tensor image as output\n",
        "        \"\"\"\n",
        "        x = self.fc(x)\n",
        "        x = x.view(-1, self.conv_dim*4, 4, 4)\n",
        "        \n",
        "        x = F.relu(self.transpose_conv1(x))\n",
        "        x = F.relu(self.transpose_conv2(x))\n",
        "        \n",
        "        # last layer + tanh activation\n",
        "        x = self.transpose_conv3(x)\n",
        "        x = torch.tanh(x)\n",
        "        \n",
        "        return x\n",
        "\n",
        "\"\"\"\n",
        "DON'T MODIFY ANYTHING IN THIS CELL THAT IS BELOW THIS LINE\n",
        "\"\"\"\n",
        "tests.test_generator(Generator)"
      ],
      "execution_count": 156,
      "outputs": [
        {
          "output_type": "stream",
          "text": [
            "Tests Passed\n"
          ],
          "name": "stdout"
        }
      ]
    },
    {
      "cell_type": "markdown",
      "metadata": {
        "id": "AslPGVIJf2tn",
        "colab_type": "text"
      },
      "source": [
        "## Initialize the weights of your networks\n",
        "\n",
        "To help your models converge, you should initialize the weights of the convolutional and linear layers in your model. From reading the [original DCGAN paper](https://arxiv.org/pdf/1511.06434.pdf), they say:\n",
        "> All weights were initialized from a zero-centered Normal distribution with standard deviation 0.02.\n",
        "\n",
        "So, your next task will be to define a weight initialization function that does just this!\n",
        "\n",
        "You can refer back to the lesson on weight initialization or even consult existing model code, such as that from [the `networks.py` file in CycleGAN Github repository](https://github.com/junyanz/pytorch-CycleGAN-and-pix2pix/blob/master/models/networks.py) to help you complete this function.\n",
        "\n",
        "#### Exercise: Complete the weight initialization function\n",
        "\n",
        "* This should initialize only **convolutional** and **linear** layers\n",
        "* Initialize the weights to a normal distribution, centered around 0, with a standard deviation of 0.02.\n",
        "* The bias terms, if they exist, may be left alone or set to 0."
      ]
    },
    {
      "cell_type": "code",
      "metadata": {
        "id": "l92wux6Lf2tn",
        "colab_type": "code",
        "colab": {}
      },
      "source": [
        "def weights_init_normal(m):\n",
        "    \"\"\"\n",
        "    Applies initial weights to certain layers in a model .\n",
        "    The weights are taken from a normal distribution \n",
        "    with mean = 0, std dev = 0.02.\n",
        "    :param m: A module or layer in a network    \n",
        "    \"\"\"\n",
        "    # classname will be something like:\n",
        "    # `Conv`, `BatchNorm2d`, `Linear`, etc.\n",
        "    classname = m.__class__.__name__\n",
        "    \n",
        "    # TODO: Apply initial weights to convolutional and linear layers\n",
        "    if hasattr(m, 'weight') and (classname.find('Conv') != -1 or classname.find('Linear') != -1):\n",
        "        m.weight.data.normal_(0.0, 0.02)\n",
        "        \n",
        "        # The bias terms, if they exist, set to 0\n",
        "        if hasattr(m, 'bias') and m.bias is not None:\n",
        "            m.bias.data.zero_()\n",
        "    "
      ],
      "execution_count": 0,
      "outputs": []
    },
    {
      "cell_type": "markdown",
      "metadata": {
        "collapsed": true,
        "id": "ItTZoziwf2tp",
        "colab_type": "text"
      },
      "source": [
        "## Build complete network\n",
        "\n",
        "Define your models' hyperparameters and instantiate the discriminator and generator from the classes defined above. Make sure you've passed in the correct input arguments."
      ]
    },
    {
      "cell_type": "code",
      "metadata": {
        "id": "xgU8q5mmf2tq",
        "colab_type": "code",
        "colab": {}
      },
      "source": [
        "\"\"\"\n",
        "DON'T MODIFY ANYTHING IN THIS CELL THAT IS BELOW THIS LINE\n",
        "\"\"\"\n",
        "def build_network(d_conv_dim, g_conv_dim, z_size):\n",
        "    # define discriminator and generator\n",
        "    D = Discriminator(d_conv_dim)\n",
        "    G = Generator(z_size=z_size, conv_dim=g_conv_dim)\n",
        "\n",
        "    # initialize model weights\n",
        "    D.apply(weights_init_normal)\n",
        "    G.apply(weights_init_normal)\n",
        "\n",
        "    print(D)\n",
        "    print()\n",
        "    print(G)\n",
        "    \n",
        "    return D, G\n"
      ],
      "execution_count": 0,
      "outputs": []
    },
    {
      "cell_type": "markdown",
      "metadata": {
        "id": "uLW6_bXKf2tr",
        "colab_type": "text"
      },
      "source": [
        "#### Exercise: Define model hyperparameters"
      ]
    },
    {
      "cell_type": "code",
      "metadata": {
        "id": "Pwt18Imqf2ts",
        "colab_type": "code",
        "outputId": "9da86909-c8ba-462b-a4c5-aae5d386c3dd",
        "colab": {
          "base_uri": "https://localhost:8080/",
          "height": 510
        }
      },
      "source": [
        "# Define model hyperparams\n",
        "d_conv_dim = 128\n",
        "g_conv_dim = 128\n",
        "z_size = 128\n",
        "\n",
        "\"\"\"\n",
        "DON'T MODIFY ANYTHING IN THIS CELL THAT IS BELOW THIS LINE\n",
        "\"\"\"\n",
        "D, G = build_network(d_conv_dim, g_conv_dim, z_size)"
      ],
      "execution_count": 159,
      "outputs": [
        {
          "output_type": "stream",
          "text": [
            "Discriminator(\n",
            "  (conv1): Sequential(\n",
            "    (0): Conv2d(3, 128, kernel_size=(4, 4), stride=(2, 2), padding=(1, 1), bias=False)\n",
            "  )\n",
            "  (conv2): Sequential(\n",
            "    (0): Conv2d(128, 256, kernel_size=(4, 4), stride=(2, 2), padding=(1, 1), bias=False)\n",
            "    (1): BatchNorm2d(256, eps=1e-05, momentum=0.1, affine=True, track_running_stats=True)\n",
            "  )\n",
            "  (conv3): Sequential(\n",
            "    (0): Conv2d(256, 512, kernel_size=(4, 4), stride=(2, 2), padding=(1, 1), bias=False)\n",
            "    (1): BatchNorm2d(512, eps=1e-05, momentum=0.1, affine=True, track_running_stats=True)\n",
            "  )\n",
            "  (fc): Linear(in_features=8192, out_features=1, bias=True)\n",
            ")\n",
            "\n",
            "Generator(\n",
            "  (fc): Linear(in_features=128, out_features=8192, bias=True)\n",
            "  (transpose_conv1): Sequential(\n",
            "    (0): ConvTranspose2d(512, 256, kernel_size=(4, 4), stride=(2, 2), padding=(1, 1), bias=False)\n",
            "    (1): BatchNorm2d(256, eps=1e-05, momentum=0.1, affine=True, track_running_stats=True)\n",
            "  )\n",
            "  (transpose_conv2): Sequential(\n",
            "    (0): ConvTranspose2d(256, 128, kernel_size=(4, 4), stride=(2, 2), padding=(1, 1), bias=False)\n",
            "    (1): BatchNorm2d(128, eps=1e-05, momentum=0.1, affine=True, track_running_stats=True)\n",
            "  )\n",
            "  (transpose_conv3): Sequential(\n",
            "    (0): ConvTranspose2d(128, 3, kernel_size=(4, 4), stride=(2, 2), padding=(1, 1), bias=False)\n",
            "  )\n",
            ")\n"
          ],
          "name": "stdout"
        }
      ]
    },
    {
      "cell_type": "markdown",
      "metadata": {
        "id": "RIjrooSef2tt",
        "colab_type": "text"
      },
      "source": [
        "### Training on GPU\n",
        "\n",
        "Check if you can train on GPU. Here, we'll set this as a boolean variable `train_on_gpu`. Later, you'll be responsible for making sure that \n",
        ">* Models,\n",
        "* Model inputs, and\n",
        "* Loss function arguments\n",
        "\n",
        "Are moved to GPU, where appropriate."
      ]
    },
    {
      "cell_type": "code",
      "metadata": {
        "id": "Qr9tT-eRf2tu",
        "colab_type": "code",
        "outputId": "7cc73eb0-759c-44c9-d93d-03a49d92d6a4",
        "colab": {
          "base_uri": "https://localhost:8080/",
          "height": 34
        }
      },
      "source": [
        "\"\"\"\n",
        "DON'T MODIFY ANYTHING IN THIS CELL\n",
        "\"\"\"\n",
        "import torch\n",
        "\n",
        "# Check for a GPU\n",
        "train_on_gpu = torch.cuda.is_available()\n",
        "if not train_on_gpu:\n",
        "    print('No GPU found. Please use a GPU to train your neural network.')\n",
        "else:\n",
        "    print('Training on GPU!')"
      ],
      "execution_count": 160,
      "outputs": [
        {
          "output_type": "stream",
          "text": [
            "Training on GPU!\n"
          ],
          "name": "stdout"
        }
      ]
    },
    {
      "cell_type": "markdown",
      "metadata": {
        "id": "lVAz11C2f2tv",
        "colab_type": "text"
      },
      "source": [
        "---\n",
        "## Discriminator and Generator Losses\n",
        "\n",
        "Now we need to calculate the losses for both types of adversarial networks.\n",
        "\n",
        "### Discriminator Losses\n",
        "\n",
        "> * For the discriminator, the total loss is the sum of the losses for real and fake images, `d_loss = d_real_loss + d_fake_loss`. \n",
        "* Remember that we want the discriminator to output 1 for real images and 0 for fake images, so we need to set up the losses to reflect that.\n",
        "\n",
        "\n",
        "### Generator Loss\n",
        "\n",
        "The generator loss will look similar only with flipped labels. The generator's goal is to get the discriminator to *think* its generated images are *real*.\n",
        "\n",
        "#### Exercise: Complete real and fake loss functions\n",
        "\n",
        "**You may choose to use either cross entropy or a least squares error loss to complete the following `real_loss` and `fake_loss` functions.**"
      ]
    },
    {
      "cell_type": "code",
      "metadata": {
        "id": "xQ-eQDI3f2tw",
        "colab_type": "code",
        "colab": {}
      },
      "source": [
        "def real_loss(D_out):\n",
        "    '''Calculates how close discriminator outputs are to being real.\n",
        "       param, D_out: discriminator logits\n",
        "       return: real loss'''\n",
        "    batch_size = D_out.size(0)\n",
        "    \n",
        "    labels = torch.ones(batch_size) * 0.9\n",
        "    \n",
        "    if train_on_gpu: labels = labels.cuda()\n",
        "    \n",
        "    criterion = nn.BCEWithLogitsLoss()\n",
        "    loss = criterion(D_out.squeeze(), labels)\n",
        "    return loss\n",
        "\n",
        "def fake_loss(D_out):\n",
        "    '''Calculates how close discriminator outputs are to being fake.\n",
        "       param, D_out: discriminator logits\n",
        "       return: fake loss'''\n",
        "\n",
        "    batch_size = D_out.size(0)\n",
        "    labels = torch.zeros(batch_size)\n",
        "  \n",
        "    if train_on_gpu:  labels = labels.cuda()\n",
        "\n",
        "    criterion = nn.BCEWithLogitsLoss()\n",
        "    loss = criterion(D_out.squeeze(), labels)\n",
        "    return loss"
      ],
      "execution_count": 0,
      "outputs": []
    },
    {
      "cell_type": "markdown",
      "metadata": {
        "id": "m-ARN2iff2ty",
        "colab_type": "text"
      },
      "source": [
        "## Optimizers\n",
        "\n",
        "#### Exercise: Define optimizers for your Discriminator (D) and Generator (G)\n",
        "\n",
        "Define optimizers for your models with appropriate hyperparameters."
      ]
    },
    {
      "cell_type": "code",
      "metadata": {
        "id": "sFG2c4d2f2tz",
        "colab_type": "code",
        "colab": {}
      },
      "source": [
        "import torch.optim as optim\n",
        "\n",
        "# Create optimizers for the discriminator D and generator G\n",
        "d_optimizer = optim.Adam(D.parameters(), lr=0.0001)\n",
        "g_optimizer = optim.Adam(G.parameters(), lr=0.0001)"
      ],
      "execution_count": 0,
      "outputs": []
    },
    {
      "cell_type": "markdown",
      "metadata": {
        "id": "AWvpM27of2t2",
        "colab_type": "text"
      },
      "source": [
        "---\n",
        "## Training\n",
        "\n",
        "Training will involve alternating between training the discriminator and the generator. You'll use your functions `real_loss` and `fake_loss` to help you calculate the discriminator losses.\n",
        "\n",
        "* You should train the discriminator by alternating on real and fake images\n",
        "* Then the generator, which tries to trick the discriminator and should have an opposing loss function\n",
        "\n",
        "\n",
        "#### Saving Samples\n",
        "\n",
        "You've been given some code to print out some loss statistics and save some generated \"fake\" samples."
      ]
    },
    {
      "cell_type": "markdown",
      "metadata": {
        "id": "ud3kEIrxf2t3",
        "colab_type": "text"
      },
      "source": [
        "#### Exercise: Complete the training function\n",
        "\n",
        "Keep in mind that, if you've moved your models to GPU, you'll also have to move any model inputs to GPU."
      ]
    },
    {
      "cell_type": "code",
      "metadata": {
        "id": "_cr3BOhtf2t4",
        "colab_type": "code",
        "colab": {}
      },
      "source": [
        "def train(D, G, n_epochs, print_every=50):\n",
        "    '''Trains adversarial networks for some number of epochs\n",
        "       param, D: the discriminator network\n",
        "       param, G: the generator network\n",
        "       param, n_epochs: number of epochs to train for\n",
        "       param, print_every: when to print and record the models' losses\n",
        "       return: D and G losses'''\n",
        "    \n",
        "    # move models to GPU\n",
        "    if train_on_gpu:\n",
        "        D.cuda()\n",
        "        G.cuda()\n",
        "\n",
        "    # keep track of loss and generated, \"fake\" samples\n",
        "    samples = []\n",
        "    losses = []\n",
        "\n",
        "    # Get some fixed data for sampling. These are images that are held\n",
        "    # constant throughout training, and allow us to inspect the model's performance\n",
        "    sample_size=16\n",
        "    fixed_z = np.random.uniform(-1, 1, size=(sample_size, z_size))\n",
        "    fixed_z = torch.from_numpy(fixed_z).float()\n",
        "    # move z to GPU if available\n",
        "    if train_on_gpu:\n",
        "        fixed_z = fixed_z.cuda()\n",
        "\n",
        "    # epoch training loop\n",
        "    for epoch in range(n_epochs):\n",
        "\n",
        "        # batch training loop\n",
        "        for batch_i, (real_images, _) in enumerate(celeba_train_loader):\n",
        "\n",
        "            batch_size = real_images.size(0)\n",
        "            real_images = scale(real_images)\n",
        "\n",
        "            # ===============================================\n",
        "            #         YOUR CODE HERE: TRAIN THE NETWORKS\n",
        "            # ===============================================\n",
        "\n",
        "            if train_on_gpu : real_images = real_images.cuda()\n",
        "\n",
        "            # 1. Train the discriminator on real and fake images\n",
        "            d_optimizer.zero_grad()\n",
        "\n",
        "            D_real = D(real_images)\n",
        "            d_real_loss = real_loss(D_real)\n",
        "            \n",
        "            # Generate fake images\n",
        "            z = np.random.uniform(-1, 1, size=(batch_size, z_size))\n",
        "            z = torch.from_numpy(z).float()\n",
        "            if train_on_gpu : z = z.cuda()\n",
        "\n",
        "            fake_images = G(z)\n",
        "            \n",
        "            # Compute the discriminator losses on fake images\n",
        "            D_fake = D(fake_images)\n",
        "            d_fake_loss = fake_loss(D_fake)\n",
        "            \n",
        "            # add up loss and perform backprop\n",
        "            d_loss = d_real_loss + d_fake_loss\n",
        "            d_loss.backward()\n",
        "            d_optimizer.step()\n",
        "\n",
        "            # 2. Train the generator with an adversarial loss\n",
        "            g_optimizer.zero_grad()\n",
        "            \n",
        "            # Generate fake images\n",
        "            z = np.random.uniform(-1, 1, size=(batch_size, z_size))\n",
        "            z = torch.from_numpy(z).float()\n",
        "            if train_on_gpu:\n",
        "                z = z.cuda()\n",
        "            fake_images = G(z)\n",
        "            \n",
        "            # Compute the discriminator losses on fake images \n",
        "            D_fake = D(fake_images)\n",
        "            g_loss = real_loss(D_fake)\n",
        "            \n",
        "            # perfom backprop\n",
        "            g_loss.backward()\n",
        "            g_optimizer.step()\n",
        "            \n",
        "            \n",
        "            # ===============================================\n",
        "            #              END OF YOUR CODE\n",
        "            # ===============================================\n",
        "\n",
        "            # Print some loss stats\n",
        "            if batch_i % print_every == 0:\n",
        "                # append discriminator loss and generator loss\n",
        "                losses.append((d_loss.item(), g_loss.item()))\n",
        "                # print discriminator and generator loss\n",
        "                print('Epoch [{:5d}/{:5d}] | d_loss: {:6.4f} | g_loss: {:6.4f}'.format(\n",
        "                        epoch+1, n_epochs, d_loss.item(), g_loss.item()))\n",
        "\n",
        "\n",
        "        ## AFTER EACH EPOCH##    \n",
        "        # this code assumes your generator is named G, feel free to change the name\n",
        "        # generate and save sample, fake images\n",
        "        G.eval() # for generating samples\n",
        "        samples_z = G(fixed_z)\n",
        "        samples.append(samples_z)\n",
        "        G.train() # back to training mode\n",
        "\n",
        "    # Save training generator samples\n",
        "    with open('train_samples.pkl', 'wb') as f:\n",
        "        pkl.dump(samples, f)\n",
        "    \n",
        "    # finally return losses\n",
        "    return losses"
      ],
      "execution_count": 0,
      "outputs": []
    },
    {
      "cell_type": "markdown",
      "metadata": {
        "id": "KSeqd4I8f2t5",
        "colab_type": "text"
      },
      "source": [
        "Set your number of training epochs and train your GAN!"
      ]
    },
    {
      "cell_type": "code",
      "metadata": {
        "id": "gsNkrPsHf2t6",
        "colab_type": "code",
        "outputId": "040ae125-7925-4db4-c60c-54defe8c0b7b",
        "colab": {
          "base_uri": "https://localhost:8080/",
          "height": 1000
        }
      },
      "source": [
        "# set number of epochs \n",
        "n_epochs = 15\n",
        "\n",
        "\n",
        "\"\"\"\n",
        "DON'T MODIFY ANYTHING IN THIS CELL\n",
        "\"\"\"\n",
        "# call training function\n",
        "losses = train(D, G, n_epochs=n_epochs)"
      ],
      "execution_count": 164,
      "outputs": [
        {
          "output_type": "stream",
          "text": [
            "Epoch [    1/   15] | d_loss: 1.1458 | g_loss: 2.3346\n",
            "Epoch [    1/   15] | d_loss: 0.3651 | g_loss: 6.9063\n",
            "Epoch [    1/   15] | d_loss: 0.3377 | g_loss: 6.4257\n",
            "Epoch [    1/   15] | d_loss: 0.3403 | g_loss: 5.8321\n",
            "Epoch [    1/   15] | d_loss: 0.3595 | g_loss: 5.0894\n",
            "Epoch [    1/   15] | d_loss: 0.3678 | g_loss: 4.5793\n",
            "Epoch [    1/   15] | d_loss: 0.3607 | g_loss: 5.5720\n",
            "Epoch [    1/   15] | d_loss: 0.3893 | g_loss: 4.8368\n",
            "Epoch [    2/   15] | d_loss: 0.3581 | g_loss: 6.1822\n",
            "Epoch [    2/   15] | d_loss: 0.3621 | g_loss: 5.3872\n",
            "Epoch [    2/   15] | d_loss: 0.3573 | g_loss: 5.0006\n",
            "Epoch [    2/   15] | d_loss: 0.3689 | g_loss: 4.8904\n",
            "Epoch [    2/   15] | d_loss: 0.4043 | g_loss: 4.6680\n",
            "Epoch [    2/   15] | d_loss: 0.3873 | g_loss: 5.1827\n",
            "Epoch [    2/   15] | d_loss: 0.3717 | g_loss: 5.3028\n",
            "Epoch [    2/   15] | d_loss: 0.5465 | g_loss: 3.4884\n",
            "Epoch [    3/   15] | d_loss: 0.5664 | g_loss: 5.4965\n",
            "Epoch [    3/   15] | d_loss: 0.4148 | g_loss: 5.1220\n",
            "Epoch [    3/   15] | d_loss: 0.3869 | g_loss: 4.3544\n",
            "Epoch [    3/   15] | d_loss: 0.4152 | g_loss: 4.4734\n",
            "Epoch [    3/   15] | d_loss: 0.4070 | g_loss: 4.3126\n",
            "Epoch [    3/   15] | d_loss: 0.3969 | g_loss: 4.5677\n",
            "Epoch [    3/   15] | d_loss: 0.4038 | g_loss: 4.9021\n",
            "Epoch [    3/   15] | d_loss: 0.3867 | g_loss: 5.9566\n",
            "Epoch [    4/   15] | d_loss: 0.3975 | g_loss: 4.6002\n",
            "Epoch [    4/   15] | d_loss: 0.4128 | g_loss: 4.1209\n",
            "Epoch [    4/   15] | d_loss: 0.4387 | g_loss: 3.5114\n",
            "Epoch [    4/   15] | d_loss: 0.4528 | g_loss: 3.1988\n",
            "Epoch [    4/   15] | d_loss: 0.3887 | g_loss: 5.3912\n",
            "Epoch [    4/   15] | d_loss: 0.4148 | g_loss: 5.0442\n",
            "Epoch [    4/   15] | d_loss: 0.3775 | g_loss: 6.0858\n",
            "Epoch [    4/   15] | d_loss: 0.5147 | g_loss: 4.0322\n",
            "Epoch [    5/   15] | d_loss: 0.5332 | g_loss: 3.1665\n",
            "Epoch [    5/   15] | d_loss: 0.4376 | g_loss: 2.5574\n",
            "Epoch [    5/   15] | d_loss: 0.4304 | g_loss: 3.8414\n",
            "Epoch [    5/   15] | d_loss: 0.4361 | g_loss: 4.2070\n",
            "Epoch [    5/   15] | d_loss: 0.4987 | g_loss: 4.0303\n",
            "Epoch [    5/   15] | d_loss: 0.6124 | g_loss: 4.5850\n",
            "Epoch [    5/   15] | d_loss: 0.4271 | g_loss: 3.6386\n",
            "Epoch [    5/   15] | d_loss: 0.4485 | g_loss: 5.6470\n",
            "Epoch [    6/   15] | d_loss: 0.4274 | g_loss: 4.1022\n",
            "Epoch [    6/   15] | d_loss: 0.4485 | g_loss: 2.8008\n",
            "Epoch [    6/   15] | d_loss: 0.4753 | g_loss: 4.3095\n",
            "Epoch [    6/   15] | d_loss: 0.4468 | g_loss: 3.3844\n",
            "Epoch [    6/   15] | d_loss: 0.4463 | g_loss: 4.2108\n",
            "Epoch [    6/   15] | d_loss: 0.5242 | g_loss: 3.5086\n",
            "Epoch [    6/   15] | d_loss: 0.4245 | g_loss: 4.4809\n",
            "Epoch [    6/   15] | d_loss: 0.5311 | g_loss: 3.5278\n",
            "Epoch [    7/   15] | d_loss: 0.4332 | g_loss: 4.4388\n",
            "Epoch [    7/   15] | d_loss: 0.5159 | g_loss: 2.9970\n",
            "Epoch [    7/   15] | d_loss: 0.6060 | g_loss: 3.7277\n",
            "Epoch [    7/   15] | d_loss: 0.7021 | g_loss: 3.7634\n",
            "Epoch [    7/   15] | d_loss: 0.4564 | g_loss: 3.9738\n",
            "Epoch [    7/   15] | d_loss: 0.4445 | g_loss: 3.4187\n",
            "Epoch [    7/   15] | d_loss: 0.4775 | g_loss: 3.6234\n",
            "Epoch [    7/   15] | d_loss: 0.5899 | g_loss: 3.7463\n",
            "Epoch [    8/   15] | d_loss: 0.5323 | g_loss: 3.0883\n",
            "Epoch [    8/   15] | d_loss: 0.5299 | g_loss: 3.6962\n",
            "Epoch [    8/   15] | d_loss: 0.4244 | g_loss: 3.7302\n",
            "Epoch [    8/   15] | d_loss: 0.4459 | g_loss: 5.0075\n",
            "Epoch [    8/   15] | d_loss: 0.5048 | g_loss: 4.0669\n",
            "Epoch [    8/   15] | d_loss: 0.5042 | g_loss: 3.7727\n",
            "Epoch [    8/   15] | d_loss: 0.6142 | g_loss: 3.5805\n",
            "Epoch [    8/   15] | d_loss: 0.5611 | g_loss: 3.0958\n",
            "Epoch [    9/   15] | d_loss: 0.5376 | g_loss: 4.2539\n",
            "Epoch [    9/   15] | d_loss: 0.4751 | g_loss: 3.8100\n",
            "Epoch [    9/   15] | d_loss: 0.4543 | g_loss: 3.8918\n",
            "Epoch [    9/   15] | d_loss: 0.5992 | g_loss: 3.1712\n",
            "Epoch [    9/   15] | d_loss: 0.5792 | g_loss: 2.9723\n",
            "Epoch [    9/   15] | d_loss: 0.4698 | g_loss: 4.1211\n",
            "Epoch [    9/   15] | d_loss: 0.5358 | g_loss: 2.9247\n",
            "Epoch [    9/   15] | d_loss: 0.5009 | g_loss: 3.5414\n",
            "Epoch [   10/   15] | d_loss: 0.6203 | g_loss: 3.4413\n",
            "Epoch [   10/   15] | d_loss: 0.5534 | g_loss: 4.8542\n",
            "Epoch [   10/   15] | d_loss: 0.5549 | g_loss: 3.0243\n",
            "Epoch [   10/   15] | d_loss: 0.5159 | g_loss: 3.1378\n",
            "Epoch [   10/   15] | d_loss: 0.8712 | g_loss: 3.1153\n",
            "Epoch [   10/   15] | d_loss: 0.6528 | g_loss: 3.3154\n",
            "Epoch [   10/   15] | d_loss: 0.6156 | g_loss: 3.2389\n",
            "Epoch [   10/   15] | d_loss: 0.5006 | g_loss: 3.2415\n",
            "Epoch [   11/   15] | d_loss: 0.6230 | g_loss: 2.1706\n",
            "Epoch [   11/   15] | d_loss: 0.6738 | g_loss: 3.0798\n",
            "Epoch [   11/   15] | d_loss: 0.5132 | g_loss: 3.9652\n",
            "Epoch [   11/   15] | d_loss: 0.5896 | g_loss: 3.3680\n",
            "Epoch [   11/   15] | d_loss: 0.5363 | g_loss: 2.6314\n",
            "Epoch [   11/   15] | d_loss: 0.9223 | g_loss: 2.8151\n",
            "Epoch [   11/   15] | d_loss: 0.5069 | g_loss: 3.5307\n",
            "Epoch [   11/   15] | d_loss: 0.5213 | g_loss: 4.1575\n",
            "Epoch [   12/   15] | d_loss: 0.5263 | g_loss: 2.9588\n",
            "Epoch [   12/   15] | d_loss: 0.5688 | g_loss: 3.4241\n",
            "Epoch [   12/   15] | d_loss: 0.5007 | g_loss: 3.8185\n",
            "Epoch [   12/   15] | d_loss: 0.5469 | g_loss: 3.4584\n",
            "Epoch [   12/   15] | d_loss: 0.6168 | g_loss: 3.8929\n",
            "Epoch [   12/   15] | d_loss: 0.5827 | g_loss: 4.0115\n",
            "Epoch [   12/   15] | d_loss: 0.6080 | g_loss: 3.6260\n",
            "Epoch [   12/   15] | d_loss: 0.5598 | g_loss: 3.5587\n",
            "Epoch [   13/   15] | d_loss: 0.5826 | g_loss: 2.0859\n",
            "Epoch [   13/   15] | d_loss: 0.6937 | g_loss: 2.8495\n",
            "Epoch [   13/   15] | d_loss: 0.5451 | g_loss: 2.8018\n",
            "Epoch [   13/   15] | d_loss: 0.6266 | g_loss: 3.3284\n",
            "Epoch [   13/   15] | d_loss: 0.4571 | g_loss: 3.6281\n",
            "Epoch [   13/   15] | d_loss: 0.5651 | g_loss: 3.1167\n",
            "Epoch [   13/   15] | d_loss: 0.6509 | g_loss: 2.4034\n",
            "Epoch [   13/   15] | d_loss: 0.5795 | g_loss: 3.3411\n",
            "Epoch [   14/   15] | d_loss: 0.5225 | g_loss: 3.1377\n",
            "Epoch [   14/   15] | d_loss: 0.5549 | g_loss: 4.2960\n",
            "Epoch [   14/   15] | d_loss: 0.9474 | g_loss: 2.0392\n",
            "Epoch [   14/   15] | d_loss: 0.5636 | g_loss: 3.1472\n",
            "Epoch [   14/   15] | d_loss: 0.4600 | g_loss: 3.9005\n",
            "Epoch [   14/   15] | d_loss: 0.7069 | g_loss: 2.9832\n",
            "Epoch [   14/   15] | d_loss: 0.6472 | g_loss: 2.4774\n",
            "Epoch [   14/   15] | d_loss: 0.8332 | g_loss: 3.2107\n",
            "Epoch [   15/   15] | d_loss: 0.7168 | g_loss: 4.2169\n",
            "Epoch [   15/   15] | d_loss: 0.5336 | g_loss: 2.8375\n",
            "Epoch [   15/   15] | d_loss: 0.5520 | g_loss: 2.2762\n",
            "Epoch [   15/   15] | d_loss: 0.6767 | g_loss: 2.8320\n",
            "Epoch [   15/   15] | d_loss: 0.5288 | g_loss: 2.5167\n",
            "Epoch [   15/   15] | d_loss: 0.8497 | g_loss: 1.8932\n",
            "Epoch [   15/   15] | d_loss: 0.5542 | g_loss: 3.3717\n",
            "Epoch [   15/   15] | d_loss: 0.7378 | g_loss: 2.9579\n"
          ],
          "name": "stdout"
        }
      ]
    },
    {
      "cell_type": "markdown",
      "metadata": {
        "collapsed": true,
        "id": "yAsuhHUyf2t7",
        "colab_type": "text"
      },
      "source": [
        "## Training loss\n",
        "\n",
        "Plot the training losses for the generator and discriminator, recorded after each epoch."
      ]
    },
    {
      "cell_type": "code",
      "metadata": {
        "id": "VbJL1pxdf2t8",
        "colab_type": "code",
        "outputId": "ea9d8499-75df-4efd-ad66-f3b6e8222145",
        "colab": {
          "base_uri": "https://localhost:8080/",
          "height": 298
        }
      },
      "source": [
        "fig, ax = plt.subplots()\n",
        "losses = np.array(losses)\n",
        "plt.plot(losses.T[0], label='Discriminator', alpha=0.5)\n",
        "plt.plot(losses.T[1], label='Generator', alpha=0.5)\n",
        "plt.title(\"Training Losses\")\n",
        "plt.legend()"
      ],
      "execution_count": 165,
      "outputs": [
        {
          "output_type": "execute_result",
          "data": {
            "text/plain": [
              "<matplotlib.legend.Legend at 0x7f17c53dee48>"
            ]
          },
          "metadata": {
            "tags": []
          },
          "execution_count": 165
        },
        {
          "output_type": "display_data",
          "data": {
            "image/png": "[encoded data removed]",
            "text/plain": [
              "<Figure size 432x288 with 1 Axes>"
            ]
          },
          "metadata": {
            "tags": []
          }
        }
      ]
    },
    {
      "cell_type": "markdown",
      "metadata": {
        "collapsed": true,
        "id": "zG_KMLm9f2t-",
        "colab_type": "text"
      },
      "source": [
        "## Generator samples from training\n",
        "\n",
        "View samples of images from the generator, and answer a question about the strengths and weaknesses of your trained models."
      ]
    },
    {
      "cell_type": "code",
      "metadata": {
        "id": "FTgBfsDjf2t-",
        "colab_type": "code",
        "colab": {}
      },
      "source": [
        "# helper function for viewing a list of passed in sample images\n",
        "def view_samples(epoch, samples):\n",
        "    fig, axes = plt.subplots(figsize=(16,4), nrows=2, ncols=8, sharey=True, sharex=True)\n",
        "    for ax, img in zip(axes.flatten(), samples[epoch]):\n",
        "        img = img.detach().cpu().numpy()\n",
        "        img = np.transpose(img, (1, 2, 0))\n",
        "        img = ((img + 1)*255 / (2)).astype(np.uint8)\n",
        "        ax.xaxis.set_visible(False)\n",
        "        ax.yaxis.set_visible(False)\n",
        "        im = ax.imshow(img.reshape((32,32,3)))"
      ],
      "execution_count": 0,
      "outputs": []
    },
    {
      "cell_type": "code",
      "metadata": {
        "id": "P7LVryo8f2t_",
        "colab_type": "code",
        "colab": {}
      },
      "source": [
        "# Load samples from generator, taken while training\n",
        "with open('train_samples.pkl', 'rb') as f:\n",
        "    samples = pkl.load(f)"
      ],
      "execution_count": 0,
      "outputs": []
    },
    {
      "cell_type": "code",
      "metadata": {
        "id": "Kxs0VNo3f2uB",
        "colab_type": "code",
        "outputId": "8c256923-d06e-45da-9837-dbd5b103715d",
        "colab": {
          "base_uri": "https://localhost:8080/",
          "height": 248
        }
      },
      "source": [
        "_ = view_samples(-1, samples)"
      ],
      "execution_count": 171,
      "outputs": [
        {
          "output_type": "display_data",
          "data": {
            "image/png": "[encoded data removed]",
            "text/plain": [
              "<Figure size 1152x288 with 16 Axes>"
            ]
          },
          "metadata": {
            "tags": []
          }
        }
      ]
    },
    {
      "cell_type": "markdown",
      "metadata": {
        "id": "Wa-U2Ddif2uC",
        "colab_type": "text"
      },
      "source": [
        "### Question: What do you notice about your generated samples and how might you improve this model?\n",
        "When you answer this question, consider the following factors:\n",
        "* The dataset is biased; it is made of \"celebrity\" faces that are mostly white\n",
        "* Model size; larger models have the opportunity to learn more features in a data feature space\n",
        "* Optimization strategy; optimizers and number of epochs affect your final result\n"
      ]
    },
    {
      "cell_type": "markdown",
      "metadata": {
        "id": "obfRbksdf2uD",
        "colab_type": "text"
      },
      "source": [
        "**Answer:** (Write your answer in this cell)\n",
        "\n",
        "The sample of generated images is composed of faces which are somehow realistic with some exceptions. The faces generated are almost only white faces. The few cases where by the generated faces are black faces, they are not really visible and clear.\n",
        "\n",
        "Talking about the model itself, it's very minimalistic to my own point of view and to improve on its peformance I think a more complex model should be adopted.\n",
        "\n",
        "However to optimize the performance of the current model architechture, increasing the learning rate is more than just a good idea because the model has been trained for a relatively small number of epochs (15 epochs)."
      ]
    },
    {
      "cell_type": "markdown",
      "metadata": {
        "id": "5PTXWduuf2uE",
        "colab_type": "text"
      },
      "source": [
        "### Submitting This Project\n",
        "When submitting this project, make sure to run all the cells before saving the notebook. Save the notebook file as \"dlnd_face_generation.ipynb\" and save it as a HTML file under \"File\" -> \"Download as\". Include the \"problem_unittests.py\" files in your submission."
      ]
    }
  ]
}